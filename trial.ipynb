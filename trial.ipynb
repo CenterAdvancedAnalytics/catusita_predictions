{
 "cells": [
  {
   "cell_type": "code",
   "execution_count": 1,
   "metadata": {},
   "outputs": [],
   "source": [
    "import pandas as pd \n",
    "file_path = \"data/raw/catusita/Data de venta 01.01.21 a 06.12.24.xls\"\n",
    "df_catusita = pd.read_excel(file_path, sheet_name=\"Sheet1\")\n",
    "excel_file = pd.ExcelFile(file_path)\n",
    "list_hojas = excel_file.sheet_names[1:]\n",
    "lista_columnas = df_catusita.columns.tolist()\n",
    "for hoja in list_hojas:\n",
    "    df_catusita_hoja = pd.read_excel(file_path, sheet_name=hoja, header=None)\n",
    "    df_catusita_hoja.columns = lista_columnas\n",
    "    df_catusita = pd.concat([df_catusita, df_catusita_hoja], ignore_index=True)"
   ]
  },
  {
   "cell_type": "code",
   "execution_count": 14,
   "metadata": {},
   "outputs": [
    {
     "data": {
      "text/plain": [
       "array(['KM9.5R17.5', 'DPM12.00R20', 'DP11R22.5', 'DRM12.00R20',\n",
       "       'KM425/65R22.5', 'DD295/80R22.5', 'DM11R22.5', 'DPP12R22.5',\n",
       "       'DM12R22.5', 'DRP12.00R24', 'DPP11R22.5', 'LMP235/75R17.5',\n",
       "       'DM900R20', 'LMD235/75R17.5', 'LMP12R22.5', 'DM12.00R24',\n",
       "       'SHT265/70R17', 'DM7.50R16LT', 'DP12.00R20', 'DP295/80R22.5',\n",
       "       'MP11R22.5', 'HD295/80R22.5', 'HM295/80R22.5', 'HD315/80R22.5',\n",
       "       'HMTLT235/85R16', 'HM315/80R22.5', 'HM11R22.5', 'DM8.25R16LT',\n",
       "       'LMD215/75R17.5', 'LMP215/75R17.5', 'HD11R22.5', 'DD315/80R22.5',\n",
       "       'DD11R22.5', 'SD295/80R22.5', 'SM315/80R22.5', 'SM11R22.5',\n",
       "       'DOP12.00R20', 'DOP11R22.5', 'SD315/80R22.5', 'DPO12.00R20',\n",
       "       'HD+295/80R22.5', 'KM7.50R16LT', 'KM7.00R16LT', 'LMP7.50R16',\n",
       "       'CPM8.25R16', 'STM11R22.5', 'STPP12R22.5', 'STP12R22.5',\n",
       "       'STD295/80R22.5', 'HP295/80R22.5', 'CD215/75R17.5',\n",
       "       'KD235/75R17.5', 'CP235/75R17.5', 'HDD315/80R22.5', 'PT12.00R20',\n",
       "       'LM425/65R22.5', 'HDD11R22.5', 'STM12R22.5', 'LMP295/80R22.5'],\n",
       "      dtype=object)"
      ]
     },
     "execution_count": 14,
     "metadata": {},
     "output_type": "execute_result"
    }
   ],
   "source": [
    "#df_catusita[df_catusita['Fuente de Suministro']=='Deruibo']\n",
    "df_catusita[df_catusita['Fuente de Suministro']=='DERUIBO']['Artículo'].unique()"
   ]
  },
  {
   "cell_type": "code",
   "execution_count": 17,
   "metadata": {},
   "outputs": [],
   "source": [
    "df_catusita_clean = df_catusita[['Fecha', 'Artículo', 'Venta S/.']].copy()\n",
    "df_catusita_clean = df_catusita_clean.dropna(subset=['Fecha', 'Artículo', 'Venta S/.'])\n",
    "df_catusita_clean['Fecha'] = pd.to_datetime(df_catusita['Fecha'], errors='coerce')\n",
    "df_catusita_clean['Año-Mes'] = df_catusita_clean['Fecha'].dt.to_period('M').astype(str)\n",
    "df_catusita_clean['Artículo'] = df_catusita_clean['Artículo'].str.strip()\n",
    "df_catusita_clean['Venta S/.'] = pd.to_numeric(df_catusita_clean['Venta S/.'], errors='coerce')\n",
    "df_pivot = df_catusita_clean.pivot_table(\n",
    "    index='Año-Mes', \n",
    "    columns='Artículo', \n",
    "    values='Venta S/.', \n",
    "    aggfunc='sum'\n",
    ")\n",
    "#df_pivot_no_nan = df_pivot.dropna(how='all', axis=0).dropna(how='all', axis=1)\n",
    "# no_faltantes = df_pivot.notna().stack()\n",
    "# no_faltantes_true = no_faltantes[no_faltantes]\n",
    "# no_faltantes_true\n",
    "df_pivot\n",
    "articulos_unicos = df_catusita[df_catusita['Fuente de Suministro'] == 'DERUIBO']['Artículo'].unique()\n",
    "df_pivot_filtrado = df_pivot.loc[:, df_pivot.columns.isin(articulos_unicos)]\n",
    "df_pivot_no_nan = df_pivot_filtrado.fillna('na')\n"
   ]
  },
  {
   "cell_type": "code",
   "execution_count": 18,
   "metadata": {},
   "outputs": [
    {
     "data": {
      "text/html": [
       "<div>\n",
       "<style scoped>\n",
       "    .dataframe tbody tr th:only-of-type {\n",
       "        vertical-align: middle;\n",
       "    }\n",
       "\n",
       "    .dataframe tbody tr th {\n",
       "        vertical-align: top;\n",
       "    }\n",
       "\n",
       "    .dataframe thead th {\n",
       "        text-align: right;\n",
       "    }\n",
       "</style>\n",
       "<table border=\"1\" class=\"dataframe\">\n",
       "  <thead>\n",
       "    <tr style=\"text-align: right;\">\n",
       "      <th>Artículo</th>\n",
       "      <th>CD215/75R17.5</th>\n",
       "      <th>CP235/75R17.5</th>\n",
       "      <th>CPM8.25R16</th>\n",
       "      <th>DD11R22.5</th>\n",
       "      <th>DD295/80R22.5</th>\n",
       "      <th>DD315/80R22.5</th>\n",
       "      <th>DM11R22.5</th>\n",
       "      <th>DM12.00R24</th>\n",
       "      <th>DM12R22.5</th>\n",
       "      <th>DM7.50R16LT</th>\n",
       "      <th>...</th>\n",
       "      <th>SD295/80R22.5</th>\n",
       "      <th>SD315/80R22.5</th>\n",
       "      <th>SHT265/70R17</th>\n",
       "      <th>SM11R22.5</th>\n",
       "      <th>SM315/80R22.5</th>\n",
       "      <th>STD295/80R22.5</th>\n",
       "      <th>STM11R22.5</th>\n",
       "      <th>STM12R22.5</th>\n",
       "      <th>STP12R22.5</th>\n",
       "      <th>STPP12R22.5</th>\n",
       "    </tr>\n",
       "  </thead>\n",
       "  <tbody>\n",
       "    <tr>\n",
       "      <th>count</th>\n",
       "      <td>48</td>\n",
       "      <td>48</td>\n",
       "      <td>48</td>\n",
       "      <td>48</td>\n",
       "      <td>48</td>\n",
       "      <td>48</td>\n",
       "      <td>48</td>\n",
       "      <td>48</td>\n",
       "      <td>48</td>\n",
       "      <td>48</td>\n",
       "      <td>...</td>\n",
       "      <td>48</td>\n",
       "      <td>48</td>\n",
       "      <td>48</td>\n",
       "      <td>48</td>\n",
       "      <td>48</td>\n",
       "      <td>48</td>\n",
       "      <td>48</td>\n",
       "      <td>48</td>\n",
       "      <td>48</td>\n",
       "      <td>48</td>\n",
       "    </tr>\n",
       "    <tr>\n",
       "      <th>unique</th>\n",
       "      <td>4</td>\n",
       "      <td>3</td>\n",
       "      <td>6</td>\n",
       "      <td>4</td>\n",
       "      <td>18</td>\n",
       "      <td>4</td>\n",
       "      <td>15</td>\n",
       "      <td>16</td>\n",
       "      <td>7</td>\n",
       "      <td>5</td>\n",
       "      <td>...</td>\n",
       "      <td>7</td>\n",
       "      <td>3</td>\n",
       "      <td>5</td>\n",
       "      <td>4</td>\n",
       "      <td>8</td>\n",
       "      <td>3</td>\n",
       "      <td>6</td>\n",
       "      <td>2</td>\n",
       "      <td>4</td>\n",
       "      <td>3</td>\n",
       "    </tr>\n",
       "    <tr>\n",
       "      <th>top</th>\n",
       "      <td>na</td>\n",
       "      <td>na</td>\n",
       "      <td>na</td>\n",
       "      <td>na</td>\n",
       "      <td>na</td>\n",
       "      <td>na</td>\n",
       "      <td>na</td>\n",
       "      <td>na</td>\n",
       "      <td>na</td>\n",
       "      <td>na</td>\n",
       "      <td>...</td>\n",
       "      <td>na</td>\n",
       "      <td>na</td>\n",
       "      <td>na</td>\n",
       "      <td>na</td>\n",
       "      <td>na</td>\n",
       "      <td>na</td>\n",
       "      <td>na</td>\n",
       "      <td>na</td>\n",
       "      <td>na</td>\n",
       "      <td>na</td>\n",
       "    </tr>\n",
       "    <tr>\n",
       "      <th>freq</th>\n",
       "      <td>45</td>\n",
       "      <td>46</td>\n",
       "      <td>43</td>\n",
       "      <td>45</td>\n",
       "      <td>31</td>\n",
       "      <td>45</td>\n",
       "      <td>34</td>\n",
       "      <td>33</td>\n",
       "      <td>42</td>\n",
       "      <td>44</td>\n",
       "      <td>...</td>\n",
       "      <td>42</td>\n",
       "      <td>46</td>\n",
       "      <td>44</td>\n",
       "      <td>45</td>\n",
       "      <td>41</td>\n",
       "      <td>46</td>\n",
       "      <td>43</td>\n",
       "      <td>47</td>\n",
       "      <td>45</td>\n",
       "      <td>46</td>\n",
       "    </tr>\n",
       "  </tbody>\n",
       "</table>\n",
       "<p>4 rows × 59 columns</p>\n",
       "</div>"
      ],
      "text/plain": [
       "Artículo CD215/75R17.5 CP235/75R17.5 CPM8.25R16 DD11R22.5 DD295/80R22.5  \\\n",
       "count               48            48         48        48            48   \n",
       "unique               4             3          6         4            18   \n",
       "top                 na            na         na        na            na   \n",
       "freq                45            46         43        45            31   \n",
       "\n",
       "Artículo DD315/80R22.5 DM11R22.5 DM12.00R24 DM12R22.5 DM7.50R16LT  ...  \\\n",
       "count               48        48         48        48          48  ...   \n",
       "unique               4        15         16         7           5  ...   \n",
       "top                 na        na         na        na          na  ...   \n",
       "freq                45        34         33        42          44  ...   \n",
       "\n",
       "Artículo SD295/80R22.5 SD315/80R22.5 SHT265/70R17 SM11R22.5 SM315/80R22.5  \\\n",
       "count               48            48           48        48            48   \n",
       "unique               7             3            5         4             8   \n",
       "top                 na            na           na        na            na   \n",
       "freq                42            46           44        45            41   \n",
       "\n",
       "Artículo STD295/80R22.5 STM11R22.5 STM12R22.5 STP12R22.5 STPP12R22.5  \n",
       "count                48         48         48         48          48  \n",
       "unique                3          6          2          4           3  \n",
       "top                  na         na         na         na          na  \n",
       "freq                 46         43         47         45          46  \n",
       "\n",
       "[4 rows x 59 columns]"
      ]
     },
     "execution_count": 18,
     "metadata": {},
     "output_type": "execute_result"
    }
   ],
   "source": [
    "df_pivot_no_nan.describe()"
   ]
  },
  {
   "cell_type": "code",
   "execution_count": 19,
   "metadata": {},
   "outputs": [],
   "source": [
    "df_pivot_no_nan.to_excel('deruibo_only.xlsx')"
   ]
  },
  {
   "cell_type": "code",
   "execution_count": 1,
   "metadata": {},
   "outputs": [
    {
     "name": "stdout",
     "output_type": "stream",
     "text": [
      "RFM SKUs represent 86.58% of total sales\n"
     ]
    }
   ],
   "source": [
    "import pandas as pd \n",
    "from utils.rfm.rfm_processor import process_rfm\n",
    "from utils.process_data.config import DATA_PATHS\n",
    "df_catusita = pd.read_csv(DATA_PATHS['process'] / 'catusita_consolidated.csv')\n",
    "lista_skus_rfm, df_rfm = process_rfm(df_catusita)\n",
    "df_skus_rfm = pd.DataFrame({'sku': lista_skus_rfm})"
   ]
  },
  {
   "cell_type": "code",
   "execution_count": 12,
   "metadata": {},
   "outputs": [],
   "source": [
    "df_rfm[['sku','rfm']].to_csv('data/process/df_rfm.csv')"
   ]
  },
  {
   "cell_type": "code",
   "execution_count": 1,
   "metadata": {},
   "outputs": [
    {
     "name": "stderr",
     "output_type": "stream",
     "text": [
      "[*********************100%***********************]  4 of 4 completed\n",
      "c:\\Users\\YOGA\\Desktop\\repositories\\caa\\catusita\\catusita_predictions\\utils\\dashboard\\dashboard.py:65: FutureWarning: Series.fillna with 'method' is deprecated and will raise in a future version. Use obj.ffill() or obj.bfill() instead.\n",
      "  self.long_format['Closing Price'] = self.long_format.groupby('Currency Pair')['Closing Price'].fillna(method='ffill')\n"
     ]
    }
   ],
   "source": [
    "from utils.dashboard.dashboard import DataProcessor\n",
    "from utils.process_data.config import DATA_PATHS\n",
    "base_path = str(DATA_PATHS['cleaned'].parent.parent)\n",
    "processor = DataProcessor(base_path)\n",
    "processor.process_all()\n",
    "processor.dffinal2.to_csv(DATA_PATHS['cleaned'] / 'dashboard.csv', index=False)"
   ]
  }
 ],
 "metadata": {
  "kernelspec": {
   "display_name": "Python 3",
   "language": "python",
   "name": "python3"
  },
  "language_info": {
   "codemirror_mode": {
    "name": "ipython",
    "version": 3
   },
   "file_extension": ".py",
   "mimetype": "text/x-python",
   "name": "python",
   "nbconvert_exporter": "python",
   "pygments_lexer": "ipython3",
   "version": "3.12.8"
  }
 },
 "nbformat": 4,
 "nbformat_minor": 2
}
