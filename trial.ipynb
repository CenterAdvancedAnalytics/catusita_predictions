{
 "cells": [
  {
   "cell_type": "code",
   "execution_count": 1,
   "metadata": {},
   "outputs": [
    {
     "ename": "KeyboardInterrupt",
     "evalue": "",
     "output_type": "error",
     "traceback": [
      "\u001b[1;31m---------------------------------------------------------------------------\u001b[0m",
      "\u001b[1;31mKeyboardInterrupt\u001b[0m                         Traceback (most recent call last)",
      "Cell \u001b[1;32mIn[1], line 1\u001b[0m\n\u001b[1;32m----> 1\u001b[0m \u001b[38;5;28;01mimport\u001b[39;00m \u001b[38;5;21;01mpandas\u001b[39;00m \u001b[38;5;28;01mas\u001b[39;00m \u001b[38;5;21;01mpd\u001b[39;00m \n\u001b[0;32m      2\u001b[0m file_path \u001b[38;5;241m=\u001b[39m \u001b[38;5;124m\"\u001b[39m\u001b[38;5;124mdata/raw/catusita/Data de venta 01.01.21 a 06.12.24.xls\u001b[39m\u001b[38;5;124m\"\u001b[39m\n\u001b[0;32m      3\u001b[0m df_catusita \u001b[38;5;241m=\u001b[39m pd\u001b[38;5;241m.\u001b[39mread_excel(file_path, sheet_name\u001b[38;5;241m=\u001b[39m\u001b[38;5;124m\"\u001b[39m\u001b[38;5;124mSheet1\u001b[39m\u001b[38;5;124m\"\u001b[39m)\n",
      "File \u001b[1;32m~\\AppData\\Roaming\\Python\\Python312\\site-packages\\pandas\\__init__.py:59\u001b[0m\n\u001b[0;32m     56\u001b[0m \u001b[38;5;66;03m# let init-time option registration happen\u001b[39;00m\n\u001b[0;32m     57\u001b[0m \u001b[38;5;28;01mimport\u001b[39;00m \u001b[38;5;21;01mpandas\u001b[39;00m\u001b[38;5;21;01m.\u001b[39;00m\u001b[38;5;21;01mcore\u001b[39;00m\u001b[38;5;21;01m.\u001b[39;00m\u001b[38;5;21;01mconfig_init\u001b[39;00m  \u001b[38;5;66;03m# pyright: ignore[reportUnusedImport] # noqa: F401\u001b[39;00m\n\u001b[1;32m---> 59\u001b[0m \u001b[38;5;28;01mfrom\u001b[39;00m \u001b[38;5;21;01mpandas\u001b[39;00m\u001b[38;5;21;01m.\u001b[39;00m\u001b[38;5;21;01mcore\u001b[39;00m\u001b[38;5;21;01m.\u001b[39;00m\u001b[38;5;21;01mapi\u001b[39;00m \u001b[38;5;28;01mimport\u001b[39;00m (\n\u001b[0;32m     60\u001b[0m     \u001b[38;5;66;03m# dtype\u001b[39;00m\n\u001b[0;32m     61\u001b[0m     ArrowDtype,\n\u001b[0;32m     62\u001b[0m     Int8Dtype,\n\u001b[0;32m     63\u001b[0m     Int16Dtype,\n\u001b[0;32m     64\u001b[0m     Int32Dtype,\n\u001b[0;32m     65\u001b[0m     Int64Dtype,\n\u001b[0;32m     66\u001b[0m     UInt8Dtype,\n\u001b[0;32m     67\u001b[0m     UInt16Dtype,\n\u001b[0;32m     68\u001b[0m     UInt32Dtype,\n\u001b[0;32m     69\u001b[0m     UInt64Dtype,\n\u001b[0;32m     70\u001b[0m     Float32Dtype,\n\u001b[0;32m     71\u001b[0m     Float64Dtype,\n\u001b[0;32m     72\u001b[0m     CategoricalDtype,\n\u001b[0;32m     73\u001b[0m     PeriodDtype,\n\u001b[0;32m     74\u001b[0m     IntervalDtype,\n\u001b[0;32m     75\u001b[0m     DatetimeTZDtype,\n\u001b[0;32m     76\u001b[0m     StringDtype,\n\u001b[0;32m     77\u001b[0m     BooleanDtype,\n\u001b[0;32m     78\u001b[0m     \u001b[38;5;66;03m# missing\u001b[39;00m\n\u001b[0;32m     79\u001b[0m     NA,\n\u001b[0;32m     80\u001b[0m     isna,\n\u001b[0;32m     81\u001b[0m     isnull,\n\u001b[0;32m     82\u001b[0m     notna,\n\u001b[0;32m     83\u001b[0m     notnull,\n\u001b[0;32m     84\u001b[0m     \u001b[38;5;66;03m# indexes\u001b[39;00m\n\u001b[0;32m     85\u001b[0m     Index,\n\u001b[0;32m     86\u001b[0m     CategoricalIndex,\n\u001b[0;32m     87\u001b[0m     RangeIndex,\n\u001b[0;32m     88\u001b[0m     MultiIndex,\n\u001b[0;32m     89\u001b[0m     IntervalIndex,\n\u001b[0;32m     90\u001b[0m     TimedeltaIndex,\n\u001b[0;32m     91\u001b[0m     DatetimeIndex,\n\u001b[0;32m     92\u001b[0m     PeriodIndex,\n\u001b[0;32m     93\u001b[0m     IndexSlice,\n\u001b[0;32m     94\u001b[0m     \u001b[38;5;66;03m# tseries\u001b[39;00m\n\u001b[0;32m     95\u001b[0m     NaT,\n\u001b[0;32m     96\u001b[0m     Period,\n\u001b[0;32m     97\u001b[0m     period_range,\n\u001b[0;32m     98\u001b[0m     Timedelta,\n\u001b[0;32m     99\u001b[0m     timedelta_range,\n\u001b[0;32m    100\u001b[0m     Timestamp,\n\u001b[0;32m    101\u001b[0m     date_range,\n\u001b[0;32m    102\u001b[0m     bdate_range,\n\u001b[0;32m    103\u001b[0m     Interval,\n\u001b[0;32m    104\u001b[0m     interval_range,\n\u001b[0;32m    105\u001b[0m     DateOffset,\n\u001b[0;32m    106\u001b[0m     \u001b[38;5;66;03m# conversion\u001b[39;00m\n\u001b[0;32m    107\u001b[0m     to_numeric,\n\u001b[0;32m    108\u001b[0m     to_datetime,\n\u001b[0;32m    109\u001b[0m     to_timedelta,\n\u001b[0;32m    110\u001b[0m     \u001b[38;5;66;03m# misc\u001b[39;00m\n\u001b[0;32m    111\u001b[0m     Flags,\n\u001b[0;32m    112\u001b[0m     Grouper,\n\u001b[0;32m    113\u001b[0m     factorize,\n\u001b[0;32m    114\u001b[0m     unique,\n\u001b[0;32m    115\u001b[0m     value_counts,\n\u001b[0;32m    116\u001b[0m     NamedAgg,\n\u001b[0;32m    117\u001b[0m     array,\n\u001b[0;32m    118\u001b[0m     Categorical,\n\u001b[0;32m    119\u001b[0m     set_eng_float_format,\n\u001b[0;32m    120\u001b[0m     Series,\n\u001b[0;32m    121\u001b[0m     DataFrame,\n\u001b[0;32m    122\u001b[0m )\n\u001b[0;32m    124\u001b[0m \u001b[38;5;28;01mfrom\u001b[39;00m \u001b[38;5;21;01mpandas\u001b[39;00m\u001b[38;5;21;01m.\u001b[39;00m\u001b[38;5;21;01mcore\u001b[39;00m\u001b[38;5;21;01m.\u001b[39;00m\u001b[38;5;21;01mdtypes\u001b[39;00m\u001b[38;5;21;01m.\u001b[39;00m\u001b[38;5;21;01mdtypes\u001b[39;00m \u001b[38;5;28;01mimport\u001b[39;00m SparseDtype\n\u001b[0;32m    126\u001b[0m \u001b[38;5;28;01mfrom\u001b[39;00m \u001b[38;5;21;01mpandas\u001b[39;00m\u001b[38;5;21;01m.\u001b[39;00m\u001b[38;5;21;01mtseries\u001b[39;00m\u001b[38;5;21;01m.\u001b[39;00m\u001b[38;5;21;01mapi\u001b[39;00m \u001b[38;5;28;01mimport\u001b[39;00m infer_freq\n",
      "File \u001b[1;32m~\\AppData\\Roaming\\Python\\Python312\\site-packages\\pandas\\core\\api.py:28\u001b[0m\n\u001b[0;32m     16\u001b[0m \u001b[38;5;28;01mfrom\u001b[39;00m \u001b[38;5;21;01mpandas\u001b[39;00m\u001b[38;5;21;01m.\u001b[39;00m\u001b[38;5;21;01mcore\u001b[39;00m\u001b[38;5;21;01m.\u001b[39;00m\u001b[38;5;21;01mdtypes\u001b[39;00m\u001b[38;5;21;01m.\u001b[39;00m\u001b[38;5;21;01mmissing\u001b[39;00m \u001b[38;5;28;01mimport\u001b[39;00m (\n\u001b[0;32m     17\u001b[0m     isna,\n\u001b[0;32m     18\u001b[0m     isnull,\n\u001b[0;32m     19\u001b[0m     notna,\n\u001b[0;32m     20\u001b[0m     notnull,\n\u001b[0;32m     21\u001b[0m )\n\u001b[0;32m     23\u001b[0m \u001b[38;5;28;01mfrom\u001b[39;00m \u001b[38;5;21;01mpandas\u001b[39;00m\u001b[38;5;21;01m.\u001b[39;00m\u001b[38;5;21;01mcore\u001b[39;00m\u001b[38;5;21;01m.\u001b[39;00m\u001b[38;5;21;01malgorithms\u001b[39;00m \u001b[38;5;28;01mimport\u001b[39;00m (\n\u001b[0;32m     24\u001b[0m     factorize,\n\u001b[0;32m     25\u001b[0m     unique,\n\u001b[0;32m     26\u001b[0m     value_counts,\n\u001b[0;32m     27\u001b[0m )\n\u001b[1;32m---> 28\u001b[0m \u001b[38;5;28;01mfrom\u001b[39;00m \u001b[38;5;21;01mpandas\u001b[39;00m\u001b[38;5;21;01m.\u001b[39;00m\u001b[38;5;21;01mcore\u001b[39;00m\u001b[38;5;21;01m.\u001b[39;00m\u001b[38;5;21;01marrays\u001b[39;00m \u001b[38;5;28;01mimport\u001b[39;00m Categorical\n\u001b[0;32m     29\u001b[0m \u001b[38;5;28;01mfrom\u001b[39;00m \u001b[38;5;21;01mpandas\u001b[39;00m\u001b[38;5;21;01m.\u001b[39;00m\u001b[38;5;21;01mcore\u001b[39;00m\u001b[38;5;21;01m.\u001b[39;00m\u001b[38;5;21;01marrays\u001b[39;00m\u001b[38;5;21;01m.\u001b[39;00m\u001b[38;5;21;01mboolean\u001b[39;00m \u001b[38;5;28;01mimport\u001b[39;00m BooleanDtype\n\u001b[0;32m     30\u001b[0m \u001b[38;5;28;01mfrom\u001b[39;00m \u001b[38;5;21;01mpandas\u001b[39;00m\u001b[38;5;21;01m.\u001b[39;00m\u001b[38;5;21;01mcore\u001b[39;00m\u001b[38;5;21;01m.\u001b[39;00m\u001b[38;5;21;01marrays\u001b[39;00m\u001b[38;5;21;01m.\u001b[39;00m\u001b[38;5;21;01mfloating\u001b[39;00m \u001b[38;5;28;01mimport\u001b[39;00m (\n\u001b[0;32m     31\u001b[0m     Float32Dtype,\n\u001b[0;32m     32\u001b[0m     Float64Dtype,\n\u001b[0;32m     33\u001b[0m )\n",
      "File \u001b[1;32m~\\AppData\\Roaming\\Python\\Python312\\site-packages\\pandas\\core\\arrays\\__init__.py:12\u001b[0m\n\u001b[0;32m     10\u001b[0m \u001b[38;5;28;01mfrom\u001b[39;00m \u001b[38;5;21;01mpandas\u001b[39;00m\u001b[38;5;21;01m.\u001b[39;00m\u001b[38;5;21;01mcore\u001b[39;00m\u001b[38;5;21;01m.\u001b[39;00m\u001b[38;5;21;01marrays\u001b[39;00m\u001b[38;5;21;01m.\u001b[39;00m\u001b[38;5;21;01mfloating\u001b[39;00m \u001b[38;5;28;01mimport\u001b[39;00m FloatingArray\n\u001b[0;32m     11\u001b[0m \u001b[38;5;28;01mfrom\u001b[39;00m \u001b[38;5;21;01mpandas\u001b[39;00m\u001b[38;5;21;01m.\u001b[39;00m\u001b[38;5;21;01mcore\u001b[39;00m\u001b[38;5;21;01m.\u001b[39;00m\u001b[38;5;21;01marrays\u001b[39;00m\u001b[38;5;21;01m.\u001b[39;00m\u001b[38;5;21;01minteger\u001b[39;00m \u001b[38;5;28;01mimport\u001b[39;00m IntegerArray\n\u001b[1;32m---> 12\u001b[0m \u001b[38;5;28;01mfrom\u001b[39;00m \u001b[38;5;21;01mpandas\u001b[39;00m\u001b[38;5;21;01m.\u001b[39;00m\u001b[38;5;21;01mcore\u001b[39;00m\u001b[38;5;21;01m.\u001b[39;00m\u001b[38;5;21;01marrays\u001b[39;00m\u001b[38;5;21;01m.\u001b[39;00m\u001b[38;5;21;01minterval\u001b[39;00m \u001b[38;5;28;01mimport\u001b[39;00m IntervalArray\n\u001b[0;32m     13\u001b[0m \u001b[38;5;28;01mfrom\u001b[39;00m \u001b[38;5;21;01mpandas\u001b[39;00m\u001b[38;5;21;01m.\u001b[39;00m\u001b[38;5;21;01mcore\u001b[39;00m\u001b[38;5;21;01m.\u001b[39;00m\u001b[38;5;21;01marrays\u001b[39;00m\u001b[38;5;21;01m.\u001b[39;00m\u001b[38;5;21;01mmasked\u001b[39;00m \u001b[38;5;28;01mimport\u001b[39;00m BaseMaskedArray\n\u001b[0;32m     14\u001b[0m \u001b[38;5;28;01mfrom\u001b[39;00m \u001b[38;5;21;01mpandas\u001b[39;00m\u001b[38;5;21;01m.\u001b[39;00m\u001b[38;5;21;01mcore\u001b[39;00m\u001b[38;5;21;01m.\u001b[39;00m\u001b[38;5;21;01marrays\u001b[39;00m\u001b[38;5;21;01m.\u001b[39;00m\u001b[38;5;21;01mnumpy_\u001b[39;00m \u001b[38;5;28;01mimport\u001b[39;00m NumpyExtensionArray\n",
      "File \u001b[1;32m~\\AppData\\Roaming\\Python\\Python312\\site-packages\\pandas\\core\\arrays\\interval.py:88\u001b[0m\n\u001b[0;32m     83\u001b[0m \u001b[38;5;28;01mfrom\u001b[39;00m \u001b[38;5;21;01mpandas\u001b[39;00m\u001b[38;5;21;01m.\u001b[39;00m\u001b[38;5;21;01mcore\u001b[39;00m\u001b[38;5;21;01m.\u001b[39;00m\u001b[38;5;21;01marrays\u001b[39;00m\u001b[38;5;21;01m.\u001b[39;00m\u001b[38;5;21;01mbase\u001b[39;00m \u001b[38;5;28;01mimport\u001b[39;00m (\n\u001b[0;32m     84\u001b[0m     ExtensionArray,\n\u001b[0;32m     85\u001b[0m     _extension_array_shared_docs,\n\u001b[0;32m     86\u001b[0m )\n\u001b[0;32m     87\u001b[0m \u001b[38;5;28;01mfrom\u001b[39;00m \u001b[38;5;21;01mpandas\u001b[39;00m\u001b[38;5;21;01m.\u001b[39;00m\u001b[38;5;21;01mcore\u001b[39;00m\u001b[38;5;21;01m.\u001b[39;00m\u001b[38;5;21;01marrays\u001b[39;00m\u001b[38;5;21;01m.\u001b[39;00m\u001b[38;5;21;01mdatetimes\u001b[39;00m \u001b[38;5;28;01mimport\u001b[39;00m DatetimeArray\n\u001b[1;32m---> 88\u001b[0m \u001b[38;5;28;01mfrom\u001b[39;00m \u001b[38;5;21;01mpandas\u001b[39;00m\u001b[38;5;21;01m.\u001b[39;00m\u001b[38;5;21;01mcore\u001b[39;00m\u001b[38;5;21;01m.\u001b[39;00m\u001b[38;5;21;01marrays\u001b[39;00m\u001b[38;5;21;01m.\u001b[39;00m\u001b[38;5;21;01mtimedeltas\u001b[39;00m \u001b[38;5;28;01mimport\u001b[39;00m TimedeltaArray\n\u001b[0;32m     89\u001b[0m \u001b[38;5;28;01mimport\u001b[39;00m \u001b[38;5;21;01mpandas\u001b[39;00m\u001b[38;5;21;01m.\u001b[39;00m\u001b[38;5;21;01mcore\u001b[39;00m\u001b[38;5;21;01m.\u001b[39;00m\u001b[38;5;21;01mcommon\u001b[39;00m \u001b[38;5;28;01mas\u001b[39;00m \u001b[38;5;21;01mcom\u001b[39;00m\n\u001b[0;32m     90\u001b[0m \u001b[38;5;28;01mfrom\u001b[39;00m \u001b[38;5;21;01mpandas\u001b[39;00m\u001b[38;5;21;01m.\u001b[39;00m\u001b[38;5;21;01mcore\u001b[39;00m\u001b[38;5;21;01m.\u001b[39;00m\u001b[38;5;21;01mconstruction\u001b[39;00m \u001b[38;5;28;01mimport\u001b[39;00m (\n\u001b[0;32m     91\u001b[0m     array \u001b[38;5;28;01mas\u001b[39;00m pd_array,\n\u001b[0;32m     92\u001b[0m     ensure_wrapped_if_datetimelike,\n\u001b[0;32m     93\u001b[0m     extract_array,\n\u001b[0;32m     94\u001b[0m )\n",
      "File \u001b[1;32m<frozen importlib._bootstrap>:1360\u001b[0m, in \u001b[0;36m_find_and_load\u001b[1;34m(name, import_)\u001b[0m\n",
      "File \u001b[1;32m<frozen importlib._bootstrap>:1331\u001b[0m, in \u001b[0;36m_find_and_load_unlocked\u001b[1;34m(name, import_)\u001b[0m\n",
      "File \u001b[1;32m<frozen importlib._bootstrap>:935\u001b[0m, in \u001b[0;36m_load_unlocked\u001b[1;34m(spec)\u001b[0m\n",
      "File \u001b[1;32m<frozen importlib._bootstrap_external>:995\u001b[0m, in \u001b[0;36mexec_module\u001b[1;34m(self, module)\u001b[0m\n",
      "File \u001b[1;32m<frozen importlib._bootstrap_external>:1091\u001b[0m, in \u001b[0;36mget_code\u001b[1;34m(self, fullname)\u001b[0m\n",
      "File \u001b[1;32m<frozen importlib._bootstrap_external>:1190\u001b[0m, in \u001b[0;36mget_data\u001b[1;34m(self, path)\u001b[0m\n",
      "\u001b[1;31mKeyboardInterrupt\u001b[0m: "
     ]
    }
   ],
   "source": [
    "import pandas as pd \n",
    "file_path = \"data/raw/catusita/Data de venta 01.01.21 a 06.12.24.xls\"\n",
    "df_catusita = pd.read_excel(file_path, sheet_name=\"Sheet1\")\n",
    "excel_file = pd.ExcelFile(file_path)\n",
    "list_hojas = excel_file.sheet_names[1:]\n",
    "lista_columnas = df_catusita.columns.tolist()\n",
    "for hoja in list_hojas:\n",
    "    df_catusita_hoja = pd.read_excel(file_path, sheet_name=hoja, header=None)\n",
    "    df_catusita_hoja.columns = lista_columnas\n",
    "    df_catusita = pd.concat([df_catusita, df_catusita_hoja], ignore_index=True)"
   ]
  },
  {
   "cell_type": "code",
   "execution_count": 14,
   "metadata": {},
   "outputs": [
    {
     "data": {
      "text/plain": [
       "array(['KM9.5R17.5', 'DPM12.00R20', 'DP11R22.5', 'DRM12.00R20',\n",
       "       'KM425/65R22.5', 'DD295/80R22.5', 'DM11R22.5', 'DPP12R22.5',\n",
       "       'DM12R22.5', 'DRP12.00R24', 'DPP11R22.5', 'LMP235/75R17.5',\n",
       "       'DM900R20', 'LMD235/75R17.5', 'LMP12R22.5', 'DM12.00R24',\n",
       "       'SHT265/70R17', 'DM7.50R16LT', 'DP12.00R20', 'DP295/80R22.5',\n",
       "       'MP11R22.5', 'HD295/80R22.5', 'HM295/80R22.5', 'HD315/80R22.5',\n",
       "       'HMTLT235/85R16', 'HM315/80R22.5', 'HM11R22.5', 'DM8.25R16LT',\n",
       "       'LMD215/75R17.5', 'LMP215/75R17.5', 'HD11R22.5', 'DD315/80R22.5',\n",
       "       'DD11R22.5', 'SD295/80R22.5', 'SM315/80R22.5', 'SM11R22.5',\n",
       "       'DOP12.00R20', 'DOP11R22.5', 'SD315/80R22.5', 'DPO12.00R20',\n",
       "       'HD+295/80R22.5', 'KM7.50R16LT', 'KM7.00R16LT', 'LMP7.50R16',\n",
       "       'CPM8.25R16', 'STM11R22.5', 'STPP12R22.5', 'STP12R22.5',\n",
       "       'STD295/80R22.5', 'HP295/80R22.5', 'CD215/75R17.5',\n",
       "       'KD235/75R17.5', 'CP235/75R17.5', 'HDD315/80R22.5', 'PT12.00R20',\n",
       "       'LM425/65R22.5', 'HDD11R22.5', 'STM12R22.5', 'LMP295/80R22.5'],\n",
       "      dtype=object)"
      ]
     },
     "execution_count": 14,
     "metadata": {},
     "output_type": "execute_result"
    }
   ],
   "source": [
    "#df_catusita[df_catusita['Fuente de Suministro']=='Deruibo']\n",
    "df_catusita[df_catusita['Fuente de Suministro']=='DERUIBO']['Artículo'].unique()"
   ]
  },
  {
   "cell_type": "code",
   "execution_count": 17,
   "metadata": {},
   "outputs": [],
   "source": [
    "df_catusita_clean = df_catusita[['Fecha', 'Artículo', 'Venta S/.']].copy()\n",
    "df_catusita_clean = df_catusita_clean.dropna(subset=['Fecha', 'Artículo', 'Venta S/.'])\n",
    "df_catusita_clean['Fecha'] = pd.to_datetime(df_catusita['Fecha'], errors='coerce')\n",
    "df_catusita_clean['Año-Mes'] = df_catusita_clean['Fecha'].dt.to_period('M').astype(str)\n",
    "df_catusita_clean['Artículo'] = df_catusita_clean['Artículo'].str.strip()\n",
    "df_catusita_clean['Venta S/.'] = pd.to_numeric(df_catusita_clean['Venta S/.'], errors='coerce')\n",
    "df_pivot = df_catusita_clean.pivot_table(\n",
    "    index='Año-Mes', \n",
    "    columns='Artículo', \n",
    "    values='Venta S/.', \n",
    "    aggfunc='sum'\n",
    ")\n",
    "#df_pivot_no_nan = df_pivot.dropna(how='all', axis=0).dropna(how='all', axis=1)\n",
    "# no_faltantes = df_pivot.notna().stack()\n",
    "# no_faltantes_true = no_faltantes[no_faltantes]\n",
    "# no_faltantes_true\n",
    "df_pivot\n",
    "articulos_unicos = df_catusita[df_catusita['Fuente de Suministro'] == 'DERUIBO']['Artículo'].unique()\n",
    "df_pivot_filtrado = df_pivot.loc[:, df_pivot.columns.isin(articulos_unicos)]\n",
    "df_pivot_no_nan = df_pivot_filtrado.fillna('na')\n"
   ]
  },
  {
   "cell_type": "code",
   "execution_count": 18,
   "metadata": {},
   "outputs": [
    {
     "data": {
      "text/html": [
       "<div>\n",
       "<style scoped>\n",
       "    .dataframe tbody tr th:only-of-type {\n",
       "        vertical-align: middle;\n",
       "    }\n",
       "\n",
       "    .dataframe tbody tr th {\n",
       "        vertical-align: top;\n",
       "    }\n",
       "\n",
       "    .dataframe thead th {\n",
       "        text-align: right;\n",
       "    }\n",
       "</style>\n",
       "<table border=\"1\" class=\"dataframe\">\n",
       "  <thead>\n",
       "    <tr style=\"text-align: right;\">\n",
       "      <th>Artículo</th>\n",
       "      <th>CD215/75R17.5</th>\n",
       "      <th>CP235/75R17.5</th>\n",
       "      <th>CPM8.25R16</th>\n",
       "      <th>DD11R22.5</th>\n",
       "      <th>DD295/80R22.5</th>\n",
       "      <th>DD315/80R22.5</th>\n",
       "      <th>DM11R22.5</th>\n",
       "      <th>DM12.00R24</th>\n",
       "      <th>DM12R22.5</th>\n",
       "      <th>DM7.50R16LT</th>\n",
       "      <th>...</th>\n",
       "      <th>SD295/80R22.5</th>\n",
       "      <th>SD315/80R22.5</th>\n",
       "      <th>SHT265/70R17</th>\n",
       "      <th>SM11R22.5</th>\n",
       "      <th>SM315/80R22.5</th>\n",
       "      <th>STD295/80R22.5</th>\n",
       "      <th>STM11R22.5</th>\n",
       "      <th>STM12R22.5</th>\n",
       "      <th>STP12R22.5</th>\n",
       "      <th>STPP12R22.5</th>\n",
       "    </tr>\n",
       "  </thead>\n",
       "  <tbody>\n",
       "    <tr>\n",
       "      <th>count</th>\n",
       "      <td>48</td>\n",
       "      <td>48</td>\n",
       "      <td>48</td>\n",
       "      <td>48</td>\n",
       "      <td>48</td>\n",
       "      <td>48</td>\n",
       "      <td>48</td>\n",
       "      <td>48</td>\n",
       "      <td>48</td>\n",
       "      <td>48</td>\n",
       "      <td>...</td>\n",
       "      <td>48</td>\n",
       "      <td>48</td>\n",
       "      <td>48</td>\n",
       "      <td>48</td>\n",
       "      <td>48</td>\n",
       "      <td>48</td>\n",
       "      <td>48</td>\n",
       "      <td>48</td>\n",
       "      <td>48</td>\n",
       "      <td>48</td>\n",
       "    </tr>\n",
       "    <tr>\n",
       "      <th>unique</th>\n",
       "      <td>4</td>\n",
       "      <td>3</td>\n",
       "      <td>6</td>\n",
       "      <td>4</td>\n",
       "      <td>18</td>\n",
       "      <td>4</td>\n",
       "      <td>15</td>\n",
       "      <td>16</td>\n",
       "      <td>7</td>\n",
       "      <td>5</td>\n",
       "      <td>...</td>\n",
       "      <td>7</td>\n",
       "      <td>3</td>\n",
       "      <td>5</td>\n",
       "      <td>4</td>\n",
       "      <td>8</td>\n",
       "      <td>3</td>\n",
       "      <td>6</td>\n",
       "      <td>2</td>\n",
       "      <td>4</td>\n",
       "      <td>3</td>\n",
       "    </tr>\n",
       "    <tr>\n",
       "      <th>top</th>\n",
       "      <td>na</td>\n",
       "      <td>na</td>\n",
       "      <td>na</td>\n",
       "      <td>na</td>\n",
       "      <td>na</td>\n",
       "      <td>na</td>\n",
       "      <td>na</td>\n",
       "      <td>na</td>\n",
       "      <td>na</td>\n",
       "      <td>na</td>\n",
       "      <td>...</td>\n",
       "      <td>na</td>\n",
       "      <td>na</td>\n",
       "      <td>na</td>\n",
       "      <td>na</td>\n",
       "      <td>na</td>\n",
       "      <td>na</td>\n",
       "      <td>na</td>\n",
       "      <td>na</td>\n",
       "      <td>na</td>\n",
       "      <td>na</td>\n",
       "    </tr>\n",
       "    <tr>\n",
       "      <th>freq</th>\n",
       "      <td>45</td>\n",
       "      <td>46</td>\n",
       "      <td>43</td>\n",
       "      <td>45</td>\n",
       "      <td>31</td>\n",
       "      <td>45</td>\n",
       "      <td>34</td>\n",
       "      <td>33</td>\n",
       "      <td>42</td>\n",
       "      <td>44</td>\n",
       "      <td>...</td>\n",
       "      <td>42</td>\n",
       "      <td>46</td>\n",
       "      <td>44</td>\n",
       "      <td>45</td>\n",
       "      <td>41</td>\n",
       "      <td>46</td>\n",
       "      <td>43</td>\n",
       "      <td>47</td>\n",
       "      <td>45</td>\n",
       "      <td>46</td>\n",
       "    </tr>\n",
       "  </tbody>\n",
       "</table>\n",
       "<p>4 rows × 59 columns</p>\n",
       "</div>"
      ],
      "text/plain": [
       "Artículo CD215/75R17.5 CP235/75R17.5 CPM8.25R16 DD11R22.5 DD295/80R22.5  \\\n",
       "count               48            48         48        48            48   \n",
       "unique               4             3          6         4            18   \n",
       "top                 na            na         na        na            na   \n",
       "freq                45            46         43        45            31   \n",
       "\n",
       "Artículo DD315/80R22.5 DM11R22.5 DM12.00R24 DM12R22.5 DM7.50R16LT  ...  \\\n",
       "count               48        48         48        48          48  ...   \n",
       "unique               4        15         16         7           5  ...   \n",
       "top                 na        na         na        na          na  ...   \n",
       "freq                45        34         33        42          44  ...   \n",
       "\n",
       "Artículo SD295/80R22.5 SD315/80R22.5 SHT265/70R17 SM11R22.5 SM315/80R22.5  \\\n",
       "count               48            48           48        48            48   \n",
       "unique               7             3            5         4             8   \n",
       "top                 na            na           na        na            na   \n",
       "freq                42            46           44        45            41   \n",
       "\n",
       "Artículo STD295/80R22.5 STM11R22.5 STM12R22.5 STP12R22.5 STPP12R22.5  \n",
       "count                48         48         48         48          48  \n",
       "unique                3          6          2          4           3  \n",
       "top                  na         na         na         na          na  \n",
       "freq                 46         43         47         45          46  \n",
       "\n",
       "[4 rows x 59 columns]"
      ]
     },
     "execution_count": 18,
     "metadata": {},
     "output_type": "execute_result"
    }
   ],
   "source": [
    "df_pivot_no_nan.describe()"
   ]
  },
  {
   "cell_type": "code",
   "execution_count": 19,
   "metadata": {},
   "outputs": [],
   "source": [
    "df_pivot_no_nan.to_excel('deruibo_only.xlsx')"
   ]
  },
  {
   "cell_type": "code",
   "execution_count": 1,
   "metadata": {},
   "outputs": [
    {
     "name": "stdout",
     "output_type": "stream",
     "text": [
      "RFM SKUs represent 86.58% of total sales\n"
     ]
    }
   ],
   "source": [
    "import pandas as pd \n",
    "from utils.rfm.rfm_processor import process_rfm\n",
    "from utils.process_data.config import DATA_PATHS\n",
    "df_catusita = pd.read_csv(DATA_PATHS['process'] / 'catusita_consolidated.csv')\n",
    "lista_skus_rfm, df_rfm = process_rfm(df_catusita)\n",
    "df_skus_rfm = pd.DataFrame({'sku': lista_skus_rfm})"
   ]
  },
  {
   "cell_type": "code",
   "execution_count": 12,
   "metadata": {},
   "outputs": [],
   "source": [
    "df_rfm[['sku','rfm']].to_csv('data/process/df_rfm.csv')"
   ]
  },
  {
   "cell_type": "code",
   "execution_count": 1,
   "metadata": {},
   "outputs": [
    {
     "name": "stderr",
     "output_type": "stream",
     "text": [
      "[*********************100%***********************]  4 of 4 completed\n",
      "c:\\Users\\YOGA\\Desktop\\repositories\\caa\\catusita\\catusita_predictions\\utils\\dashboard\\dashboard.py:68: FutureWarning: Series.fillna with 'method' is deprecated and will raise in a future version. Use obj.ffill() or obj.bfill() instead.\n",
      "  self.long_format['Closing Price'] = self.long_format.groupby('Currency Pair')['Closing Price'].fillna(method='ffill')\n"
     ]
    },
    {
     "name": "stdout",
     "output_type": "stream",
     "text": [
      "Generated dashboard data for 2983 SKUs\n",
      "Generated dashboard data by fuente for 49 fuentes\n",
      "Generated download data for 2983 SKUs\n"
     ]
    }
   ],
   "source": [
    "from utils.dashboard.dashboard import DataProcessor\n",
    "from utils.process_data.config import DATA_PATHS\n",
    "base_path = str(DATA_PATHS['cleaned'].parent.parent)\n",
    "processor = DataProcessor(base_path)\n",
    "processor.process_all()\n",
    "processor.dfdashboard.to_csv(DATA_PATHS['cleaned'] / 'dashboard.csv', index=False)\n",
    "processor.dffinal3.to_csv(DATA_PATHS['cleaned'] / 'dashboard_by_fuente.csv', index=False)\n",
    "processor.dffinal2.to_csv(DATA_PATHS['cleaned'] / 'download.csv', index=False)\n",
    "print(f\"Generated dashboard data for {len(processor.dfdashboard)} SKUs\")\n",
    "print(f\"Generated dashboard data by fuente for {len(processor.dffinal3)} fuentes\")\n",
    "print(f\"Generated download data for {len(processor.dffinal2)} SKUs\")"
   ]
  },
  {
   "cell_type": "code",
   "execution_count": 13,
   "metadata": {},
   "outputs": [
    {
     "data": {
      "text/plain": [
       "Timestamp('2024-10-31 00:00:00')"
      ]
     },
     "execution_count": 13,
     "metadata": {},
     "output_type": "execute_result"
    }
   ],
   "source": [
    "processor.tipo_de_cambio_df['ultima_fecha'].max()"
   ]
  },
  {
   "cell_type": "code",
   "execution_count": null,
   "metadata": {},
   "outputs": [],
   "source": [
    "import pandas as pd  \n",
    "# pd.set_option('display.max_rows', None)  # Mostrar todas las filas\n",
    "# pd.set_option('display.max_columns', None)  # Mostrar todas las columnas\n",
    "\n",
    "# Seleccionar solo las columnas involucradas\n",
    "columns_to_display = [\n",
    "    'Artículo', 'Fuente Suministro', 'Inventario', 'Backorder', \n",
    "    'Demanda Mensual', 'holgura', 'consumiendo_proteccion', \n",
    "    'quebro', 'va_a_quebrar', 'verde', 'amarillo', 'rojo', 'Alerta'\n",
    "]\n",
    "\n",
    "# Ver el DataFrame final con las columnas seleccionadas\n",
    "df_final = processor.dffinal2[columns_to_display]\n",
    "# df_temp = df_final[(df_final['consumiendo_proteccion']==0) & (df_final['va_a_quebrar']==1)]\n",
    "# df_temp\n",
    "df_final[(df_final['consumiendo_proteccion']==1)&(df_final['va_a_quebrar']==1)].head()"
   ]
  },
  {
   "cell_type": "code",
   "execution_count": 1,
   "metadata": {},
   "outputs": [],
   "source": [
    "from utils.process_data.config import DATA_PATHS\n",
    "from utils.predictions.predictor import Predictor\n",
    "import pandas as pd  \n",
    "\n",
    "predictor = Predictor()\n",
    "# predictions_df = predictor.process_predictions()\n",
    "\n",
    "data_path = DATA_PATHS['process'] / 'catusita_consolidated.csv'\n",
    "cov_path = DATA_PATHS['process'] / 'df_covariables.csv'\n",
    "\n",
    "all_monthly_data = predictor.create_monthly_sales_data(\n",
    "    predictor.load_and_preprocess_data(data_path)\n",
    ")\n",
    "df_cov = predictor.load_covariates_data(cov_path)\n",
    "df_correlaciones_sig = pd.read_csv(DATA_PATHS['process'] / 'df_correlaciones_sig.csv')\n",
    "\n",
    "# results_df = predictor.make_final_predictions(\n",
    "#     all_monthly_data, \n",
    "#     df_cov, \n",
    "#     df_correlaciones_sig\n",
    "# )\n",
    "\n",
    "# results_df = results_df[results_df['date'] == results_df['date'].max()]\n"
   ]
  },
  {
   "cell_type": "code",
   "execution_count": 2,
   "metadata": {},
   "outputs": [
    {
     "name": "stdout",
     "output_type": "stream",
     "text": [
      "NaN en all_monthly_data:\n",
      "articulo             0\n",
      "year                 0\n",
      "month                0\n",
      "cantidad             0\n",
      "transacciones        0\n",
      "venta_pen            0\n",
      "fuente_suministro    1\n",
      "lt                   0\n",
      "fecha                0\n",
      "dtype: int64\n",
      "-----\n",
      "NaN en df_cov:\n",
      "year                       0\n",
      "month                      0\n",
      "Hibridos y Electricos      0\n",
      "Livianos                   0\n",
      "Menores                    0\n",
      "Pesados                    0\n",
      "Remolques y SemiR          0\n",
      "Neumáticos                 0\n",
      "Lubricantes                0\n",
      "Partes de Motor            0\n",
      "Filtros                    0\n",
      "Otros consumibles          0\n",
      "Partes eléctricas          0\n",
      "Sistema de transmisión     0\n",
      "Partes de carrocería       0\n",
      "Sistema de frenos          0\n",
      "Baterías                   0\n",
      "Sistema de suspensión      0\n",
      "Accesorios                 0\n",
      "Ruedas y sus partes        0\n",
      "Productos de caucho        0\n",
      "Sistema de dirección       0\n",
      "Sistema de enfriamiento    0\n",
      "Ejes y diferencial         0\n",
      "Sistema de escape          0\n",
      "dtype: int64\n",
      "-----\n",
      "NaN en df_correlaciones_sig:\n",
      "lag     0\n",
      "tipo    0\n",
      "corr    0\n",
      "sku     0\n",
      "dtype: int64\n",
      "-----\n"
     ]
    }
   ],
   "source": [
    "# Verificar si hay NaN en all_monthly_data\n",
    "print(\"NaN en all_monthly_data:\")\n",
    "print(all_monthly_data.isna().sum())\n",
    "print(\"-----\")\n",
    "\n",
    "# Verificar si hay NaN en df_cov\n",
    "print(\"NaN en df_cov:\")\n",
    "print(df_cov.isna().sum())\n",
    "print(\"-----\")\n",
    "\n",
    "# Verificar si hay NaN en df_correlaciones_sig\n",
    "print(\"NaN en df_correlaciones_sig:\")\n",
    "print(df_correlaciones_sig.isna().sum())\n",
    "print(\"-----\")"
   ]
  }
 ],
 "metadata": {
  "kernelspec": {
   "display_name": "Python 3",
   "language": "python",
   "name": "python3"
  },
  "language_info": {
   "codemirror_mode": {
    "name": "ipython",
    "version": 3
   },
   "file_extension": ".py",
   "mimetype": "text/x-python",
   "name": "python",
   "nbconvert_exporter": "python",
   "pygments_lexer": "ipython3",
   "version": "3.12.8"
  }
 },
 "nbformat": 4,
 "nbformat_minor": 2
}
